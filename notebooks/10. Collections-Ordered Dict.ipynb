{
 "metadata": {
  "name": ""
 },
 "nbformat": 3,
 "nbformat_minor": 0,
 "worksheets": [
  {
   "cells": [
    {
     "cell_type": "markdown",
     "metadata": {},
     "source": [
      "An OrderedDict is a dict that remembers the order that keys were first inserted. If a new entry overwrites an existing entry, the original insertion position is left unchanged. Deleting an entry and reinserting it will move it to the end."
     ]
    },
    {
     "cell_type": "code",
     "collapsed": false,
     "input": [
      "normal_dic = {}\n",
      "normal_dic['India'] = 'New Delhi'\n",
      "normal_dic['Afganistan'] = 'Kabul'\n",
      "normal_dic['Albania'] = 'Tirana'\n",
      "normal_dic['Austria'] = 'Vienna'\n",
      "print(normal_dic)"
     ],
     "language": "python",
     "metadata": {},
     "outputs": []
    },
    {
     "cell_type": "code",
     "collapsed": false,
     "input": [
      "from collections import OrderedDict\n",
      "ordered_dic = OrderedDict()\n",
      "ordered_dic['India'] = 'New Delhi'\n",
      "ordered_dic['Afganistan'] = 'Kabul'\n",
      "ordered_dic['Albania'] = 'Tirana'\n",
      "ordered_dic['Austria'] = 'Vienna'\n",
      "print(ordered_dic)"
     ],
     "language": "python",
     "metadata": {},
     "outputs": []
    },
    {
     "cell_type": "markdown",
     "metadata": {},
     "source": [
      "A few more operations:  \n",
      "Overwriting:"
     ]
    },
    {
     "cell_type": "code",
     "collapsed": false,
     "input": [
      "ordered_dic['Afganistan'] = 'Athens'\n",
      "print(ordered_dic)"
     ],
     "language": "python",
     "metadata": {},
     "outputs": []
    },
    {
     "cell_type": "markdown",
     "metadata": {},
     "source": [
      "Deleting:"
     ]
    },
    {
     "cell_type": "code",
     "collapsed": false,
     "input": [
      "del ordered_dic['Albania']\n",
      "print(ordered_dic)"
     ],
     "language": "python",
     "metadata": {},
     "outputs": []
    },
    {
     "cell_type": "markdown",
     "metadata": {},
     "source": [
      "Inserting again:"
     ]
    },
    {
     "cell_type": "code",
     "collapsed": false,
     "input": [
      "ordered_dic['Albania'] = 'Tirana'\n",
      "print(ordered_dic)"
     ],
     "language": "python",
     "metadata": {},
     "outputs": []
    },
    {
     "cell_type": "markdown",
     "metadata": {},
     "source": [
      "But why doesn't this work?"
     ]
    },
    {
     "cell_type": "code",
     "collapsed": false,
     "input": [
      "from collections import OrderedDict\n",
      "ordered_dic = OrderedDict({'India' : 'New Delhi', 'Afganistan' : \n",
      "                           'Kabul', 'Albania' : 'Tirana', \n",
      "                           'Austria' : 'Vienna'})\n",
      "print(ordered_dic)"
     ],
     "language": "python",
     "metadata": {},
     "outputs": []
    }
   ],
   "metadata": {}
  }
 ]
}