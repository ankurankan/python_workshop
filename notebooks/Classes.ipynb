{
 "metadata": {
  "name": ""
 },
 "nbformat": 3,
 "nbformat_minor": 0,
 "worksheets": [
  {
   "cells": [
    {
     "cell_type": "markdown",
     "metadata": {},
     "source": [
      "Python classes provide all the standard features of Object Oriented Programming: the class inheritance mechanism allows multiple base classes, a derived class can override any methods of its base class or classes, and a method can call the method of a base class with the same name."
     ]
    },
    {
     "cell_type": "markdown",
     "metadata": {},
     "source": [
      "The simplest form of class definition looks like this:\n",
      "<code><pre>\n",
      "class ClassName:\n",
      "    statement-1\n",
      "    .\n",
      "    .\n",
      "    .\n",
      "    statement-N\n",
      "</pre></code>"
     ]
    },
    {
     "cell_type": "markdown",
     "metadata": {},
     "source": [
      "Class Objects:\n",
      "=============="
     ]
    },
    {
     "cell_type": "markdown",
     "metadata": {},
     "source": [
      "Class objects support two kinds of operations: attribute references and instantiation.  \n",
      "\n",
      "Attribute references use the standard syntax used for all attribute references in Python: <code>obj.name</code>. Valid attribute names are all the names that were in the class\u2019s namespace when the class object was created. So, if the class definition looked like this:"
     ]
    },
    {
     "cell_type": "code",
     "collapsed": false,
     "input": [
      "class MyClass:\n",
      "    \"\"\"A simple example class\"\"\"\n",
      "    i = 12345\n",
      "    def f(self):\n",
      "        return 'hello world'"
     ],
     "language": "python",
     "metadata": {},
     "outputs": []
    },
    {
     "cell_type": "markdown",
     "metadata": {},
     "source": [
      "then <code>MyClass.i</code> and <code>MyClass.f</code> are valid attribute references, returning an integer and a function object, respectively. Class attributes can also be assigned to, so you can change the value of <code>MyClass.i</code> by assignment. <code>\\_\\_doc\\_\\_</code> is also a valid attribute, returning the docstring belonging to the class: \"A simple example class\"."
     ]
    },
    {
     "cell_type": "markdown",
     "metadata": {},
     "source": [
      "Class instantiation uses function notation. Just pretend that the class object is a parameterless function that returns a new instance of the class. For example (assuming the above class):"
     ]
    },
    {
     "cell_type": "code",
     "collapsed": false,
     "input": [
      "x = MyClass()"
     ],
     "language": "python",
     "metadata": {},
     "outputs": []
    },
    {
     "cell_type": "markdown",
     "metadata": {},
     "source": [
      "creates a new instance of the class and assigns this object to the local variable <code>x</code>.\n",
      "\n",
      "The instantiation operation (\u201ccalling\u201d a class object) creates an empty object. Many classes like to create objects with instances customized to a specific initial state. Therefore a class may define a special method named <code>\\_\\_init\\_\\_()</code>, like this:"
     ]
    },
    {
     "cell_type": "code",
     "collapsed": false,
     "input": [
      "def __init__(self):\n",
      "    self.data = []"
     ],
     "language": "python",
     "metadata": {},
     "outputs": []
    },
    {
     "cell_type": "markdown",
     "metadata": {},
     "source": [
      "When a class defines an <code>\\_\\_init\\_\\_()</code> method, class instantiation automatically invokes <code>\\_\\_init\\_\\_()</code> for the newly-created class instance. So in this example, a new, initialized instance can be obtained by:"
     ]
    },
    {
     "cell_type": "code",
     "collapsed": false,
     "input": [
      "x = MyClass()"
     ],
     "language": "python",
     "metadata": {},
     "outputs": []
    },
    {
     "cell_type": "markdown",
     "metadata": {},
     "source": [
      "Of course, the <code>\\_\\_init\\_\\_()</code> method may have arguments for greater flexibility. In that case, arguments given to the class instantiation operator are passed on to <code>\\_\\_init\\_\\_()</code>. For example,"
     ]
    },
    {
     "cell_type": "code",
     "collapsed": false,
     "input": [
      "class Complex:\n",
      "    def __init__(self, realpart, imagpart):\n",
      "        self.r = realpart\n",
      "        self.i = imagpart\n",
      "\n",
      "x = Complex(3.0, -4.5)"
     ],
     "language": "python",
     "metadata": {},
     "outputs": []
    },
    {
     "cell_type": "code",
     "collapsed": false,
     "input": [
      "print(x.r, x.i)"
     ],
     "language": "python",
     "metadata": {},
     "outputs": []
    },
    {
     "cell_type": "markdown",
     "metadata": {},
     "source": [
      "Instance Objects:\n",
      "================="
     ]
    },
    {
     "cell_type": "markdown",
     "metadata": {},
     "source": [
      "The only operations understood by instance objects are attribute references. There are two kinds of valid attribute names, data attributes and methods. __Data attributes need not be declared; like local variables, they spring into existence when they are first assigned to__. For example, if x is the instance of MyClass created above."
     ]
    },
    {
     "cell_type": "code",
     "collapsed": false,
     "input": [
      "x.counter = 1\n",
      "while x.counter < 10:\n",
      "    x.counter = x.counter * 2\n",
      "print x.counter\n",
      "del x.counter"
     ],
     "language": "python",
     "metadata": {},
     "outputs": []
    },
    {
     "cell_type": "markdown",
     "metadata": {},
     "source": [
      "The other kind of instance attribute reference is a method. A method is a function that \u201cbelongs to\u201d an object."
     ]
    },
    {
     "cell_type": "markdown",
     "metadata": {},
     "source": [
      "Method Objects:\n",
      "===============\n",
      "\n",
      "Usually, a method is called right after it is bound:"
     ]
    },
    {
     "cell_type": "code",
     "collapsed": false,
     "input": [
      "x.f()"
     ],
     "language": "python",
     "metadata": {},
     "outputs": []
    },
    {
     "cell_type": "markdown",
     "metadata": {},
     "source": [
      "In the <code>MyClass</code> example, this will return the string <code>'hello world'</code>. However, it is not necessary to call a method right away: <code>x.f</code> is a method object, and can be stored away and called at a later time. For example:"
     ]
    },
    {
     "cell_type": "code",
     "collapsed": false,
     "input": [
      "xf = x.f\n",
      "while True:\n",
      "    print xf()"
     ],
     "language": "python",
     "metadata": {},
     "outputs": []
    },
    {
     "cell_type": "markdown",
     "metadata": {},
     "source": [
      "will continue to print hello world until the end of time.\n",
      "\n",
      "What exactly happens when a method is called? You may have noticed that <code>x.f()</code> was called without an argument above, even though the function definition for <code>f()</code> specified an argument. What happened to the argument? Surely Python raises an exception when a function that requires an argument is called without any \u2014 even if the argument isn\u2019t actually used...\n",
      "\n",
      "Actually, you may have guessed the answer: the special thing about methods is that the object is passed as the first argument of the function. In our example, the call <code>x.f()</code> is exactly equivalent to <code>MyClass.f(x)</code>. In general, calling a method with a list of n arguments is equivalent to calling the corresponding function with an argument list that is created by inserting the method\u2019s object before the first argument."
     ]
    }
   ],
   "metadata": {}
  }
 ]
}