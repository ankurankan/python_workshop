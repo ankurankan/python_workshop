{
 "metadata": {
  "name": ""
 },
 "nbformat": 3,
 "nbformat_minor": 0,
 "worksheets": [
  {
   "cells": [
    {
     "cell_type": "markdown",
     "metadata": {},
     "source": [
      "Iterators\n",
      "========="
     ]
    },
    {
     "cell_type": "code",
     "collapsed": false,
     "input": [
      "mylist = [1, 2, 3]\n",
      "for i in mylist:\n",
      "    print(i)"
     ],
     "language": "python",
     "metadata": {},
     "outputs": []
    },
    {
     "cell_type": "markdown",
     "metadata": {},
     "source": [
      "Mylist is an <b>iterable</b>. When you use a list comprehension, you create a list, and so an iterable:"
     ]
    },
    {
     "cell_type": "code",
     "collapsed": false,
     "input": [
      "mylist = [x*x for x in range(3)]\n",
      "for i in mylist:\n",
      "    print(i)"
     ],
     "language": "python",
     "metadata": {},
     "outputs": []
    },
    {
     "cell_type": "markdown",
     "metadata": {},
     "source": [
      "Everything you can use <b>\"for... in...\"</b> on is an iterable: lists, strings, files... These iterables are handy because you can read them as much as you wish, but you store all the values in memory and it's not always what you want when you have a lot of values.\n",
      "\n",
      "Generators\n",
      "==========\n",
      "\n",
      "Generators are iterators, but you can only iterate over them once. It's because they <b>do not store all the values in memory</b>, they generate the values on the fly:\n"
     ]
    },
    {
     "cell_type": "code",
     "collapsed": false,
     "input": [
      "mygenerator = (x*x for x in range(3))\n",
      "for i in mygenerator:\n",
      "    print(i)"
     ],
     "language": "python",
     "metadata": {},
     "outputs": []
    },
    {
     "cell_type": "markdown",
     "metadata": {},
     "source": [
      "It is just the same except you used () instead of []. BUT, you can not perform for i in mygenerator a second time since generators can only be used once: they calculate 0, then forget about it and calculate 1, and end calculating 4, one by one.\n",
      "\n",
      "__In Python3 range is a generator whereas in Python2.x range used to be a function and xrange was generator.__\n",
      "\n",
      "Yield\n",
      "=====\n",
      "\n",
      "Yield is a keyword that is used like return, <b>except the function will return a generator.</b>"
     ]
    },
    {
     "cell_type": "code",
     "collapsed": false,
     "input": [
      "def createGenerator():\n",
      "    mylist = range(3)\n",
      "    for i in mylist:\n",
      "        yield i*i\n",
      "\n",
      "mygenerator = createGenerator() # create a generator\n",
      "print(mygenerator) # mygenerator is an object!"
     ],
     "language": "python",
     "metadata": {},
     "outputs": []
    },
    {
     "cell_type": "code",
     "collapsed": false,
     "input": [
      "for i in mygenerator:\n",
      "     print(i)"
     ],
     "language": "python",
     "metadata": {},
     "outputs": []
    },
    {
     "cell_type": "markdown",
     "metadata": {},
     "source": [
      "Here it's a useless example, but it's handy when you know your function will return a huge set of values that you will only need to read once.\n",
      "\n",
      "To master yield, you must understand that when you call the function, the code you have written in the function body does not run. The function <b>only returns the generator object</b>, this is a bit tricky :-)\n",
      "\n",
      "Then, your code will be run each time the for uses the generator.\n",
      "\n",
      "Now the hard part:\n",
      "\n",
      "The first time the for calls the generator object created from your function, it will run the code in your function from the beginning until it hits yield, then it'll return the first value of the loop. Then, each other call will run the loop you have written in the function one more time, and return the next value, until there is no value to return.\n",
      "\n",
      "The generator is considered empty once the function runs but does not hit yield anymore. It can be because the loop had come to an end, or because you do not satisfy a \"if/else\" anymore"
     ]
    },
    {
     "cell_type": "markdown",
     "metadata": {},
     "source": [
      "Performance Improvement\n",
      "=======================\n",
      "\n",
      "The performance improvement from the use of generators is the result of the lazy (on demand) generation of values, which translates to lower memory usage. Furthermore, we do not need to wait until all the elements have been generated before we start to use them. This is similar to the benefits provided by iterators, but the generator makes building iterators easy.\n",
      "\n",
      "This can be illustrated by comparing the range and xrange built-ins of Python 2.x.\n",
      "\n",
      "Both range and xrange represent a range of numbers, and have the same function signature, but range returns a list while xrange returns a generator (at least in concept; the implementation may differ).\n",
      "\n",
      "Say, we had to compute the sum of the first n, say 1,000,000, non-negative numbers."
     ]
    },
    {
     "cell_type": "code",
     "collapsed": false,
     "input": [
      "# Note: Python 2.x only\n",
      "# using a non-generator\n",
      "sum_of_first_n = sum(range(1000000))\n",
      "\n",
      "# using a generator\n",
      "sum_of_first_n = sum(xrange(1000000))"
     ],
     "language": "python",
     "metadata": {},
     "outputs": []
    },
    {
     "cell_type": "code",
     "collapsed": false,
     "input": [
      "cProfile results for range and xrange\n",
      "\n",
      "For range:\n",
      "       ncalls  tottime  percall  cumtime  percall filename:lineno(function)\n",
      "        1    0.011    0.011    0.049    0.049 <ipython-input-10-ef954789b5dc>:1(fun)\n",
      "        1    0.000    0.000    0.049    0.049 <string>:1(<module>)\n",
      "        1    0.000    0.000    0.000    0.000 {method 'disable' of '_lsprof.Profiler' objects}\n",
      "        1    0.024    0.024    0.024    0.024 {range}\n",
      "        1    0.013    0.013    0.013    0.013 {sum}\n",
      "        \n",
      "For xrange:\n",
      "       ncalls  tottime  percall  cumtime  percall filename:lineno(function)\n",
      "        1    0.000    0.000    0.016    0.016 <ipython-input-8-6fe05bf26683>:1(fun)\n",
      "        1    0.000    0.000    0.016    0.016 <string>:1(<module>)\n",
      "        1    0.000    0.000    0.000    0.000 {method 'disable' of '_lsprof.Profiler' objects}\n",
      "        1    0.016    0.016    0.016    0.016 {sum}"
     ],
     "language": "python",
     "metadata": {},
     "outputs": []
    },
    {
     "cell_type": "markdown",
     "metadata": {},
     "source": [
      "Note that both lines are identical in form, but the one using range is much more expensive.\n",
      "\n",
      "When we use range we build a 1,000,000 element list in memory and then find its sum. This is a waste, considering that we use these 1,000,000 elements just to compute the sum.\n",
      "\n",
      "This waste becomes more pronounced as the number of elements (our n) becomes larger, the size of our elements become larger, or both.\n",
      "\n",
      "On the other hand, when we use xrange, we do not incur the cost of building a 1,000,000 element list in memory. The generator created by xrange will generate each number, which sum will consume to accumulate the sum.\n",
      "\n",
      "In the case of the \"range\" function, using it as an iterable is the dominant use-case, and this is reflected in Python 3.x, which makes the range built-in return a generator instead of a list.\n",
      "\n",
      "__Note: a generator will provide performance benefits only if we do not intend to use that set of generated values more than once.__\n",
      "\n",
      "Consider the following example:"
     ]
    },
    {
     "cell_type": "code",
     "collapsed": false,
     "input": [
      "# Note: Python 2.x only\n",
      "s = sum(xrange(1000000))\n",
      "p = product(xrange(1000000))"
     ],
     "language": "python",
     "metadata": {},
     "outputs": []
    },
    {
     "cell_type": "markdown",
     "metadata": {},
     "source": [
      "Imagine that making a integer is a very expensive process. In the above code, we just performed the same expensive process twice. In cases like this, building a list in memory might be worth it (see example below):"
     ]
    },
    {
     "cell_type": "code",
     "collapsed": false,
     "input": [
      "# Note: Python 2.x only\n",
      "nums = list(xrange(1000000))\n",
      "s = sum(nums)\n",
      "p = product(nums)"
     ],
     "language": "python",
     "metadata": {},
     "outputs": []
    },
    {
     "cell_type": "markdown",
     "metadata": {},
     "source": [
      "However, a generator might still be the only way, if the storage of these generated objects in memory is not practical, and it might be worth to pay the price of duplicated expensive computations."
     ]
    }
   ],
   "metadata": {}
  }
 ]
}