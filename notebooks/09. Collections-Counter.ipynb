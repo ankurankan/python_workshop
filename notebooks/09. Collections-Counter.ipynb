{
 "metadata": {
  "name": ""
 },
 "nbformat": 3,
 "nbformat_minor": 0,
 "worksheets": [
  {
   "cells": [
    {
     "cell_type": "markdown",
     "metadata": {},
     "source": [
      "A Counter is a dict subclass for counting hashable objects. It is an unordered collection where elements are stored as dictionary keys and their counts are stored as dictionary values. Counts are allowed to be any integer value including zero or negative counts. "
     ]
    },
    {
     "cell_type": "markdown",
     "metadata": {},
     "source": [
      "The various ways in which we can initialize a `Counter`:"
     ]
    },
    {
     "cell_type": "code",
     "collapsed": false,
     "input": [
      "from collections import Counter\n",
      "c = Counter()                           # a new, empty counter\n",
      "print(c)"
     ],
     "language": "python",
     "metadata": {},
     "outputs": []
    },
    {
     "cell_type": "code",
     "collapsed": false,
     "input": [
      "c = Counter('gallahad')                 # a new counter from an iterable\n",
      "print(c)"
     ],
     "language": "python",
     "metadata": {},
     "outputs": []
    },
    {
     "cell_type": "code",
     "collapsed": false,
     "input": [
      "c = Counter({'red': 4, 'blue': 2})      # a new counter from a mapping\n",
      "print(c)"
     ],
     "language": "python",
     "metadata": {},
     "outputs": []
    },
    {
     "cell_type": "code",
     "collapsed": false,
     "input": [
      "c = Counter(cats=4, dogs=8)             # a new counter from keyword args\n",
      "print(c)"
     ],
     "language": "python",
     "metadata": {},
     "outputs": []
    },
    {
     "cell_type": "markdown",
     "metadata": {},
     "source": [
      "Counter objects have a dictionary interface except that they return a zero count for missing items instead of raising a KeyError:"
     ]
    },
    {
     "cell_type": "code",
     "collapsed": false,
     "input": [
      "c = Counter(['eggs', 'ham'])\n",
      "c['bacon']"
     ],
     "language": "python",
     "metadata": {},
     "outputs": []
    },
    {
     "cell_type": "markdown",
     "metadata": {},
     "source": [
      "To remove an element from the Counter use del"
     ]
    },
    {
     "cell_type": "code",
     "collapsed": false,
     "input": [
      "del c['eggs']\n",
      "print(c)"
     ],
     "language": "python",
     "metadata": {},
     "outputs": []
    },
    {
     "cell_type": "markdown",
     "metadata": {},
     "source": [
      "Various mathematical operations can be done on Counters:"
     ]
    },
    {
     "cell_type": "code",
     "collapsed": false,
     "input": [
      "c = Counter(a=3, b=1)\n",
      "d = Counter(a=1, b=2)\n",
      "c + d                       # add two counters together:  c[x] + d[x]"
     ],
     "language": "python",
     "metadata": {},
     "outputs": []
    },
    {
     "cell_type": "code",
     "collapsed": false,
     "input": [
      "c - d                       # subtract (keeping only positive counts)"
     ],
     "language": "python",
     "metadata": {},
     "outputs": []
    },
    {
     "cell_type": "code",
     "collapsed": false,
     "input": [
      "c & d                       # intersection:  min(c[x], d[x])"
     ],
     "language": "python",
     "metadata": {},
     "outputs": []
    },
    {
     "cell_type": "code",
     "collapsed": false,
     "input": [
      "c | d                       # union:  max(c[x], d[x])"
     ],
     "language": "python",
     "metadata": {},
     "outputs": []
    },
    {
     "cell_type": "markdown",
     "metadata": {},
     "source": [
      "What does this do?"
     ]
    },
    {
     "cell_type": "code",
     "collapsed": false,
     "input": [
      "c += Counter()"
     ],
     "language": "python",
     "metadata": {},
     "outputs": []
    }
   ],
   "metadata": {}
  }
 ]
}