{
 "metadata": {
  "name": ""
 },
 "nbformat": 3,
 "nbformat_minor": 0,
 "worksheets": [
  {
   "cells": [
    {
     "cell_type": "markdown",
     "metadata": {},
     "source": [
      "<code>Python</code> is a widely used general-purpose, high-level programming language. Its design philosophy emphasizes **code readability**, and its syntax allows programmers to **express concepts in fewer lines of code** than would be possible in languages such as C."
     ]
    },
    {
     "cell_type": "markdown",
     "metadata": {},
     "source": [
      "Lets start with a simple code. "
     ]
    },
    {
     "cell_type": "code",
     "collapsed": false,
     "input": [
      "x = 34 - 23 # A comment.\n",
      "y = \"Hello\" # Another one.\n",
      "z = 3.45 \n",
      "if z == 3.45 or y == \"Hello\":\n",
      "    x = x + 1\n",
      "    y = y + \" World\" # String concat.\n",
      "    print x\n",
      "    print y"
     ],
     "language": "python",
     "metadata": {},
     "outputs": []
    },
    {
     "cell_type": "markdown",
     "metadata": {},
     "source": [
      "Enough to Understand the Code\n",
      "=============================\n",
      "\u2022 Assignment uses <code>=</code> and comparison uses <code>==</code>.  \n",
      "\u2022 For numbers <code>+ - * /</code> % are as expected.  \n",
      "\u2022 Special use of <code>+</code> for string concatenation.  \n",
      "\u2022 Special use of <code>%</code> for string formatting (as with printf in C)  \n",
      "\u2022 Logical operators are words (<code>and, or, not</code>) not symbols  \n",
      "\u2022 The basic printing command is <code>print</code>.  \n",
      "\u2022 The first assignment to a variable creates it.  \n",
      "\u2022 Variable types don\u2019t need to be declared.  \n",
      "\u2022 Python figures out the variable types on its own.  \n",
      "\n",
      "**If you didn't get it, don't worry.**"
     ]
    },
    {
     "cell_type": "markdown",
     "metadata": {},
     "source": [
      "Basic Datatypes\n",
      "===============\n",
      "\n",
      "\u2022 **Integers** (default for numbers)  \n",
      "<code>z = 5</code>  \n",
      "<code>z = 5/2</code>  \n",
      "\u2022 **Floats**  \n",
      "<code> x = 3.456 </code>  "
     ]
    },
    {
     "cell_type": "markdown",
     "metadata": {},
     "source": [
      "You can use <code>Python</code> as calculator also."
     ]
    },
    {
     "cell_type": "code",
     "collapsed": false,
     "input": [
      "2*3"
     ],
     "language": "python",
     "metadata": {},
     "outputs": []
    },
    {
     "cell_type": "markdown",
     "metadata": {},
     "source": [
      "\u2022 **Strings**  \n",
      "Besides numbers, Python can also manipulate strings, which can be expressed in several ways. They can be enclosed in single quotes or double quotes.  \n",
      "<code>foo = \"spam eggs\"</code>  \n",
      "Use triple double-quotes for multi-line strings or strings than contain both \u2018 and \u201c inside of them.  \n",
      "<code>foo_string = \"\"\"\n",
      "Usage: thingy [OPTIONS]\n",
      "     -h                        Display this usage message\n",
      "     -H hostname               Hostname to connect to\n",
      "\"\"\"</code>"
     ]
    },
    {
     "cell_type": "code",
     "collapsed": false,
     "input": [
      "x = 3\n",
      "y = 4.56\n",
      "foo = \"spam eggs\"\n",
      "foo_string = \"\"\"\n",
      "Usage: thingy [OPTIONS]\n",
      "     -h                        Display this usage message\n",
      "     -H hostname               Hostname to connect to\n",
      "\"\"\"\n",
      "print x\n",
      "print foo_string"
     ],
     "language": "python",
     "metadata": {},
     "outputs": []
    },
    {
     "cell_type": "markdown",
     "metadata": {},
     "source": [
      "Strings can be subscripted (indexed); like in C, the first character of a string has subscript (index) 0. There is no separate character type; a character is simply a string of size one. Example"
     ]
    },
    {
     "cell_type": "code",
     "collapsed": false,
     "input": [
      "bar = \"hello world welcome to python workshop\"\n",
      "print bar\n",
      "# Prints first 4 characters\n",
      "print bar[0:4]\n",
      "# Prints Everything except first 4 characters\n",
      "print bar[4:]\n",
      "# Prints the last character\n",
      "print bar[-1]\n",
      "# Prints Everything except the last two characters\n",
      "print bar[:-2]"
     ],
     "language": "python",
     "metadata": {},
     "outputs": []
    },
    {
     "cell_type": "markdown",
     "metadata": {},
     "source": [
      "Strings can be concatenated (glued together) with the <code>+</code> operator, and repeated with <code>*</code>."
     ]
    },
    {
     "cell_type": "code",
     "collapsed": false,
     "input": [
      "string_1 = \"hello \"\n",
      "string_2 = \"world\"\n",
      "print string_1 + string_2\n",
      "print 5*string_2"
     ],
     "language": "python",
     "metadata": {},
     "outputs": []
    },
    {
     "cell_type": "markdown",
     "metadata": {},
     "source": [
      "Whitespace\n",
      "==========\n",
      "Whitespace is meaningful in Python: especially **indentation** and **placement of newlines**.  \n",
      "\u2022 Use a newline to end a line of code.   \n",
      "\u2022 Use \\ when must go to next line prematurely.  \n",
      "\u2022 No braces <code>{ }</code> to mark blocks of code in Python. Use consistent indentation instead.   \n",
      "\u2022 **The first line with less indentation is outside of the block.**  \n",
      "\u2022 **The first line with more indentation starts a nested block.**  \n",
      "\u2022 Often a colon appears at the start of a new block.   \n",
      "(E.g. for function and class definitions.)  "
     ]
    },
    {
     "cell_type": "markdown",
     "metadata": {},
     "source": [
      "Assignment\n",
      "==========\n",
      "\u2022 **Binding a variable in Python means setting a name to hold a reference to some object.**  \n",
      "\u2022 Assignment creates references, not copies.  \n",
      "\u2022 Names in Python do not have an intrinsic type. Objects have types.  \n",
      "\u2022 **Python determines the type of the reference automatically based on the data object assigned to it.**  \n",
      "\u2022 You create a name the first time it appears on the left side of an assignment expression:   \n",
      "<code>x = 3</code>  \n",
      "\u2022 **A reference is deleted via garbage collection after any names bound to it have passed out of scope.**  \n",
      "\u2022 If you **try to access a name before it\u2019s been properly created** (by placing it on the left side of an assignment), you\u2019ll get an **error**.   "
     ]
    },
    {
     "cell_type": "code",
     "collapsed": false,
     "input": [
      "foo_element"
     ],
     "language": "python",
     "metadata": {},
     "outputs": []
    },
    {
     "cell_type": "markdown",
     "metadata": {},
     "source": [
      "\u2022 **You can also assign to multiple names at the same time.**"
     ]
    },
    {
     "cell_type": "code",
     "collapsed": false,
     "input": [
      "x = y = z = 4\n",
      "x, y = 4, 2"
     ],
     "language": "python",
     "metadata": {},
     "outputs": []
    },
    {
     "cell_type": "markdown",
     "metadata": {},
     "source": [
      "Sequence types: Tuples, Lists, and Strings\n",
      "=========================================="
     ]
    },
    {
     "cell_type": "markdown",
     "metadata": {},
     "source": [
      "###Tuple\n",
      "\u2022 A simple immutable ordered sequence of items.  \n",
      "\u2022 Items can be of mixed types, including collection types."
     ]
    },
    {
     "cell_type": "code",
     "collapsed": false,
     "input": [
      "tu = (23, 'abc', 4.56, (2,3), 'def')\n",
      "# Print first element of tuple\n",
      "print tu[0]\n",
      "# Tuple can be used to assignment also\n",
      "a, b, c, d, e = tu\n",
      "print b\n",
      "# Slicing is same just in strings\n",
      "print tu[:-2]\n",
      "tu_2 = ('bar', 'foo')\n",
      "print tu + tu_2"
     ],
     "language": "python",
     "metadata": {},
     "outputs": []
    },
    {
     "cell_type": "markdown",
     "metadata": {},
     "source": [
      "Tuples have many uses, e.g., (x, y) coordinate pairs, employee records from a database, etc. Tuples, like strings, are immutable: it is not possible to assign to the individual items of a tuple."
     ]
    },
    {
     "cell_type": "markdown",
     "metadata": {},
     "source": [
      "###List\n",
      "\u2022 Mutable ordered sequence of items of mixed types.  \n",
      "\u2022 Items can be of mixed types, including collection types.  \n",
      "**Key difference**  \n",
      "\u2022 Tuples and strings are immutable.  \n",
      "\u2022 Lists are mutable.  "
     ]
    },
    {
     "cell_type": "code",
     "collapsed": false,
     "input": [
      "li = [\"abc\", 34, 4.34, 23]\n",
      "# Appending elements in list"
     ],
     "language": "python",
     "metadata": {},
     "outputs": []
    },
    {
     "cell_type": "markdown",
     "metadata": {},
     "source": [
      "Like string indices, list indices start at 0, and lists can be sliced, concatenated and so on:"
     ]
    },
    {
     "cell_type": "code",
     "collapsed": false,
     "input": [
      "a = ['spam', 'eggs', 100, 1234] \n",
      "print a[1:-1]\n",
      "print a[:2] + ['bacon', 2*2]\n",
      "print 3*a[:3] + ['Boe!']"
     ],
     "language": "python",
     "metadata": {},
     "outputs": []
    },
    {
     "cell_type": "markdown",
     "metadata": {},
     "source": [
      "**Operations on List**"
     ]
    },
    {
     "cell_type": "markdown",
     "metadata": {},
     "source": [
      "\u2022 The <code>append</code> method adds a single item to the end of the list.  \n",
      "\u2022 The <code>extend</code> method adds items from another list (or any sequence) to the end.   \n",
      "\u2022 The <code>insert</code> inserts an item at a given index, and move the remaining items to the right.  "
     ]
    },
    {
     "cell_type": "code",
     "collapsed": false,
     "input": [
      "a.append('foo')\n",
      "print a\n",
      "a.extend(li)\n",
      "print a\n",
      "a.insert(2, 'bar')\n",
      "print a"
     ],
     "language": "python",
     "metadata": {},
     "outputs": []
    },
    {
     "cell_type": "markdown",
     "metadata": {},
     "source": [
      "\u2022 The <code>del</code> statement can be used to remove an individual item, or to remove all items identified by a slice.   \n",
      "\u2022 The <code>pop</code> method removes an individual item and returns it, while remove searches for an item.   \n",
      "\u2022 The <code>removes</code> the first matching item from the list.  "
     ]
    },
    {
     "cell_type": "code",
     "collapsed": false,
     "input": [
      "del(a[0])\n",
      "print a\n",
      "item = a.pop()\n",
      "print item\n",
      "item = a.pop(1)\n",
      "print item\n",
      "a.remove('foo')"
     ],
     "language": "python",
     "metadata": {},
     "outputs": []
    },
    {
     "cell_type": "markdown",
     "metadata": {},
     "source": [
      "The <code>in</code> Operator\n",
      "============================"
     ]
    },
    {
     "cell_type": "markdown",
     "metadata": {},
     "source": [
      "\u2022 Boolean test whether a value is inside a container:"
     ]
    },
    {
     "cell_type": "code",
     "collapsed": false,
     "input": [
      "t = [1, 2, 4, 5]\n",
      "3 in t"
     ],
     "language": "python",
     "metadata": {},
     "outputs": []
    },
    {
     "cell_type": "markdown",
     "metadata": {},
     "source": [
      "\u2022 For strings, tests for substrings"
     ]
    },
    {
     "cell_type": "code",
     "collapsed": false,
     "input": [
      "a = 'abcde'\n",
      "'a' in a"
     ],
     "language": "python",
     "metadata": {},
     "outputs": []
    },
    {
     "cell_type": "markdown",
     "metadata": {},
     "source": [
      "<code>for</code> loop\n",
      "=====================\n",
      "For loops are traditionally used when you have a piece of code which you want to repeat n number of times. Python\u2019s for statement iterates over the items of any sequence (a list or a string), in the order that they appear in the sequence.    "
     ]
    },
    {
     "cell_type": "code",
     "collapsed": false,
     "input": [
      "for letter in 'Python':\n",
      "   print 'Current Letter :', letter\n",
      "\n",
      "fruits = ['banana', 'apple',  'mango']\n",
      "for fruit in fruits:\n",
      "   print 'Current fruit :', fruit"
     ],
     "language": "python",
     "metadata": {},
     "outputs": []
    },
    {
     "cell_type": "markdown",
     "metadata": {},
     "source": [
      "<code>range(start, stop)</code> would return a list of integers <code>[start, start+1, ...., stop-1]</code>."
     ]
    },
    {
     "cell_type": "code",
     "collapsed": false,
     "input": [
      "for val in range(0, 10):\n",
      "    print val"
     ],
     "language": "python",
     "metadata": {},
     "outputs": []
    },
    {
     "cell_type": "markdown",
     "metadata": {},
     "source": [
      "<code>if</code> statement\n",
      "=========================\n",
      "The if statement is used for conditional execution."
     ]
    },
    {
     "cell_type": "code",
     "collapsed": false,
     "input": [
      "x = -4\n",
      "if x < 0:\n",
      "    x = 0\n",
      "    print 'Negative changed to zero'\n",
      "elif x == 0:\n",
      "    print 'Zero'\n",
      "elif x == 1:\n",
      "    print 'Single'\n",
      "else:\n",
      "    print 'More'"
     ],
     "language": "python",
     "metadata": {},
     "outputs": []
    },
    {
     "cell_type": "markdown",
     "metadata": {},
     "source": [
      "There can be zero or more <code>elif</code> parts, and the else part is optional. The keyword <code>elif</code> is short for \u2018else if\u2019, and is useful to avoid excessive indentation. An <code>if ... elif ... elif ...</code> sequence is a substitute for the switch or case statements found in other languages."
     ]
    },
    {
     "cell_type": "markdown",
     "metadata": {},
     "source": [
      "Boolean operators like <code>and, or, not</code> can also be used."
     ]
    },
    {
     "cell_type": "code",
     "collapsed": false,
     "input": [
      "x = 2\n",
      "if x == 2 or x == 3:\n",
      "    print 'sucess'\n",
      "else:\n",
      "    print 'failure'"
     ],
     "language": "python",
     "metadata": {},
     "outputs": []
    },
    {
     "cell_type": "markdown",
     "metadata": {},
     "source": [
      "Functions\n",
      "=========\n",
      "\n",
      "The keyword <code>def</code> introduces a function definition. It must be followed by the function name and the parenthesized list of formal parameters. The statements that form the **body of the function start at the next line, indented by a tab stop**. \n",
      "<pre><code>\n",
      "def functionname( parameters ):\n",
      "   \"function_docstring\"\n",
      "   function_suite\n",
      "   return [expression]\n",
      "</code></pre>"
     ]
    },
    {
     "cell_type": "code",
     "collapsed": false,
     "input": [
      "def foo(num):\n",
      "    print num\n",
      "\n",
      "foo(2)"
     ],
     "language": "python",
     "metadata": {},
     "outputs": []
    },
    {
     "cell_type": "markdown",
     "metadata": {},
     "source": [
      "The <code>return</code> statement returns with a value from a function. <code>return</code> without an expression argument is used to return from the middle of a procedure (falling off the end also returns from a procedure), in which case the <code>None</code> value is returned."
     ]
    },
    {
     "cell_type": "code",
     "collapsed": false,
     "input": [
      "def foo_again(num):\n",
      "    return num*2\n",
      "print foo_again(3)"
     ],
     "language": "python",
     "metadata": {},
     "outputs": []
    },
    {
     "cell_type": "markdown",
     "metadata": {},
     "source": [
      "**Default arguments**:\n",
      "A default argument is an argument that assumes a default value if a value is not provided in the function call for that argument. Following example gives an idea on default arguments, it would print default age if it is not passed:"
     ]
    },
    {
     "cell_type": "code",
     "collapsed": false,
     "input": [
      "# Function definition is here\n",
      "def printinfo( name, age = 35 ):\n",
      "   \"This prints a passed info into this function\"\n",
      "   print \"Name: \", name\n",
      "   print \"Age \", age\n",
      "   return\n",
      "\n",
      "# Now you can call printinfo function\n",
      "printinfo( age=50, name=\"foo\" )\n",
      "printinfo( name=\"miki\" )"
     ],
     "language": "python",
     "metadata": {},
     "outputs": []
    }
   ],
   "metadata": {}
  }
 ]
}