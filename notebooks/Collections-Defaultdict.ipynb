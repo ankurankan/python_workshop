{
 "metadata": {
  "name": ""
 },
 "nbformat": 3,
 "nbformat_minor": 0,
 "worksheets": [
  {
   "cells": [
    {
     "cell_type": "markdown",
     "metadata": {},
     "source": [
      "<code>collections.defaultdict([default\\_factory[, ...]])</code> return __dictionary like object__ but with some subtle differences. It is a dictionary with a __default value for keys__, so that keys for which no value has been explicitly defined can be accessed without errors (explicitly <code>KeyError</code>). For example"
     ]
    },
    {
     "cell_type": "code",
     "collapsed": false,
     "input": [
      "foo_dict = {'foo_key': 'foo_value', 'bar_key': 'bar_value'}\n",
      "#accessing key-value pair not present in dictionary would raise KeyError\n",
      "print foo_dict['foo_bar_key']"
     ],
     "language": "python",
     "metadata": {},
     "outputs": []
    },
    {
     "cell_type": "code",
     "collapsed": false,
     "input": [
      "from collections import defaultdict\n",
      "\n",
      "foo_dict = defaultdict(str)\n",
      "foo_dict['foo_key'] = 'foo_value'\n",
      "foo_dict['bar_key'] = 'bar_value'\n",
      "#Instead of raising KeyError it would be returning an empty string\n",
      "print foo_dict['foo_bar_key']"
     ],
     "language": "python",
     "metadata": {},
     "outputs": [
      {
       "output_type": "stream",
       "stream": "stdout",
       "text": [
        "\n"
       ]
      }
     ],
     "prompt_number": 2
    },
    {
     "cell_type": "markdown",
     "metadata": {},
     "source": [
      "Using <code>list</code> as the <code>default_factory</code>, it is easy to group a sequence of key-value pairs into a dictionary of lists. For example:"
     ]
    },
    {
     "cell_type": "code",
     "collapsed": false,
     "input": [
      "location_list = [('India', 'Mumbai'), ('US', 'New York'), ('India', 'New Delhi'), ('US', 'Chicago')]\n",
      "location_dict = defaultdict(list)\n",
      "for country, place in location_list:\n",
      "    location_dict[country].append(place)\n",
      "print location_dict.items()"
     ],
     "language": "python",
     "metadata": {},
     "outputs": [
      {
       "output_type": "stream",
       "stream": "stdout",
       "text": [
        "[('India', ['Mumbai', 'New Delhi']), ('US', ['New York', 'Chicago'])]\n"
       ]
      }
     ],
     "prompt_number": 4
    },
    {
     "cell_type": "markdown",
     "metadata": {},
     "source": [
      "When each <code>country</code> is encountered for the first time, an __empty list__ is created for it. The <code>list.append()</code> function then appends the <code>place</code> to the empty list. And when the <code>country</code> is encountered again the look-up proceeds normally appending another element to the list."
     ]
    },
    {
     "cell_type": "markdown",
     "metadata": {},
     "source": [
      "Assignment Time\n",
      "===============\n",
      "Using the concept studied till now, write a code to calculate the number of occurences of each alphabet present in the word __\"malayalam\"__ ?"
     ]
    },
    {
     "cell_type": "code",
     "collapsed": false,
     "input": [],
     "language": "python",
     "metadata": {},
     "outputs": []
    }
   ],
   "metadata": {}
  }
 ]
}