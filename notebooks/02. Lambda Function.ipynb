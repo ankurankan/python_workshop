{
 "metadata": {
  "name": ""
 },
 "nbformat": 3,
 "nbformat_minor": 0,
 "worksheets": [
  {
   "cells": [
    {
     "cell_type": "markdown",
     "metadata": {},
     "source": [
      "Python supports an interesting syntax that lets you define __one-line mini-functions__  using a construct called <code> lambda</code> on the fly. These functions can be __anonymous functions (i.e. functions that are not bound to a name) at runtime__. It is often used in conjunction with typical functional concepts like filter(), map() and reduce(). \n",
      "\n",
      "Creating a simple <code>lambda</code> function."
     ]
    },
    {
     "cell_type": "code",
     "collapsed": false,
     "input": [
      "l_func = lambda x: x**2\n",
      "print (l_func(4))"
     ],
     "language": "python",
     "metadata": {},
     "outputs": []
    },
    {
     "cell_type": "markdown",
     "metadata": {},
     "source": [
      "As you can see that l_func function return the same as:\n",
      "<pre><code>\n",
      "def foo(x):\n",
      "    return x**2\n",
      "</code></pre>\n",
      "but it __does not contain a return__ statement, instead it always __contains an expression which is returned__.\n"
     ]
    },
    {
     "cell_type": "markdown",
     "metadata": {},
     "source": [
      "You can put a <code>lambda</code> definition anywhere a function is expected, and you don't have to assign it to a variable at all. For example:"
     ]
    },
    {
     "cell_type": "code",
     "collapsed": false,
     "input": [
      "def power_generator(n):\n",
      "    return lambda x: x**n\n",
      "\n",
      "func1 = power_generator(2)\n",
      "func2 = power_generator(3)\n",
      "\n",
      "print ('func1(2) = ', func1(2), 'func2(3) = ', func2(3))\n",
      "print (power_generator(5)(2))"
     ],
     "language": "python",
     "metadata": {},
     "outputs": []
    },
    {
     "cell_type": "markdown",
     "metadata": {},
     "source": [
      "In the previous example, <code>power_generator(n)</code> generates a function on the fly and returns it.\n",
      "So <code>func1</code> is nothing but a function returning $x^2$ and so is <code>func2</code>.\n",
      "In the last example <code>power_generator(5)(2)</code> demonstrates that you don't have to assign the function anywhere. <code>power_generator(5)</code> would create a function returning $x^5$ which would take the input parameter <code>(2)</code> and return <code>32</code>."
     ]
    },
    {
     "cell_type": "markdown",
     "metadata": {},
     "source": [
      "##map"
     ]
    },
    {
     "cell_type": "markdown",
     "metadata": {},
     "source": [
      "__<code>map(function, iterable,...)</code>__ apply <code>function</code> to every item of iterable and returns a list of results.\n",
      "This can be used with <code>lambda</code> function."
     ]
    },
    {
     "cell_type": "code",
     "collapsed": false,
     "input": [
      "print (list(map(lambda x: x**2, range(3))))\n",
      "\n",
      "#taking one step further\n",
      "print (list(map(power_generator(4), range(3))))\n"
     ],
     "language": "python",
     "metadata": {},
     "outputs": []
    },
    {
     "cell_type": "markdown",
     "metadata": {},
     "source": [
      "##filter"
     ]
    },
    {
     "cell_type": "markdown",
     "metadata": {},
     "source": [
      "Moving further, the next application of <code>lambda</code> function is __<code>filter</code>__ function.\n",
      "__<code>filter(function, iterable)</code>__ constructs a list from those elements of iterable for which __function returns true__. Iterable may be either a sequence, a container which supports iteration, or an iterator. If iterable is a string or a tuple, the result also has that type; otherwise it is always a list. If function is <code>None</code>, the identity function is assumed, that is, all elements of iterable that are false are removed.  \n",
      "<code>filter(function, iterable)</code> is equivalent to <code>[item for item in iterable if function(item)]</code>.  \n",
      "For example"
     ]
    },
    {
     "cell_type": "code",
     "collapsed": false,
     "input": [
      "print (list(filter(lambda x: x%3 == 0, range(30))))"
     ],
     "language": "python",
     "metadata": {},
     "outputs": []
    },
    {
     "cell_type": "markdown",
     "metadata": {},
     "source": [
      "In the above example <code>filter</code> returned a list of all elements for which <code>x%3 == 0</code> was <code>True</code>.\n",
      "So the list contained <code>[0, 3, 6, 9, 12, 15, 18, 21, 24, 27]</code>"
     ]
    },
    {
     "cell_type": "markdown",
     "metadata": {},
     "source": [
      "##sorted"
     ]
    },
    {
     "cell_type": "markdown",
     "metadata": {},
     "source": [
      "The next function, __<code>sorted</code>__ is used for sorting a iterable.  \n",
      "__<code>sorted(iterable[, cmp[, key[, reverse]]])</code>__ returns a __new sorted__ list from the items of a iterable.  \n",
      "<code>key</code> specifies a function of one argument that is used to extract a comparison key from each list element.  \n",
      "<code>reverse</code> reverse is a boolean value. If set to True, then the list elements are sorted as if each comparison were reversed.  "
     ]
    },
    {
     "cell_type": "code",
     "collapsed": false,
     "input": [
      "#sorting the list of strings according to length of strings\n",
      "string_list = \"Hello welcome you all to python workshop\".split()\n",
      "print (sorted(string_list, key=lambda x: len(x)))\n"
     ],
     "language": "python",
     "metadata": {},
     "outputs": []
    },
    {
     "cell_type": "markdown",
     "metadata": {},
     "source": [
      "The above code sorted the list according to the <code>key</code> i.e. <code>len(string)</code>.   \n",
      "The following the example illustrating the <code>cmp</code> argument:"
     ]
    }
   ],
   "metadata": {}
  }
 ]
}