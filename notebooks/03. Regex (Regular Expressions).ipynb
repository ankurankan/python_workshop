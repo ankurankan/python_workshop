{
 "metadata": {
  "name": ""
 },
 "nbformat": 3,
 "nbformat_minor": 0,
 "worksheets": [
  {
   "cells": [
    {
     "cell_type": "markdown",
     "metadata": {},
     "source": [
      "A regular expression (or RE) specifies __a set of strings that matches it__; the functions in this module let you check if a __particular string matches a given regular expression (or if a given regular expression matches a particular string, which comes down to the same thing)__.  \n",
      "  \n",
      "Lets start with a _hello world_ program (matching characters):"
     ]
    },
    {
     "cell_type": "code",
     "collapsed": false,
     "input": [
      "#module for regular expressions\n",
      "import re\n",
      "match = re.search('rld', 'hello world')\n",
      "if match:\n",
      "    print match.group()\n",
      "else:\n",
      "    print \"No matching pattern\""
     ],
     "language": "python",
     "metadata": {},
     "outputs": []
    },
    {
     "cell_type": "markdown",
     "metadata": {},
     "source": [
      "In the above example <code>re.search(pat, str)</code> searches for the pattern <code>pat</code> in the string <code>str</code>. If the search is sucessful, a match object is returned, else it would return <code>None</code>. The code <code>match.group()</code> would return the matching text. "
     ]
    },
    {
     "cell_type": "markdown",
     "metadata": {},
     "source": [
      "Basic Patterns\n",
      "==============  \n",
      "\n",
      "__<code>a, X, 9 </code>__ -- ordinary characters just match themselves exactly. The meta-characters which do not match themselves because they have special meanings   \n",
      "__<code>.</code>__ (a period) -- matches any single character except newline <code>'\\n'</code>  \n",
      "__</code>\\w</code>__ -- (lowercase w) matches a \"word\" character: a letter or digit or underbar [a-zA-Z0-9\\_]. __Note that although \"word\" is the mnemonic for this, it only matches a single word char, not a whole word.__  \n",
      "__<code>\\W</code>__ (upper case W) matches any non-word character.  \n",
      "__<code>\\b</code>__ -- boundary between word and non-word  \n",
      "__<code>\\s</code>__ -- (lowercase s) matches a single whitespace character -- space, newline, return, tab, form [ \\n\\r\\t\\f].   \n",
      "__<code>\\S</code>__ (upper case S) matches any non-whitespace character.  \n",
      "__<code>\\t, \\n, \\r</code>__ -- tab, newline, return  \n",
      "__<code>\\d</code>__ -- decimal digit [0-9]  \n",
      "__<code>^ = start, $ = end</code>__ -- match the start or end of the string  \n",
      "__<code>\\</code>__ -- inhibit the \"specialness\" of a character. So, for example, use \\. to match a period or \\\\ to match a slash. If you are unsure if a character has special meaning, such as '@', you can put a slash in front of it, \\@, to make sure it is treated just as a character.  \n",
      "\n",
      "Below are some examples:"
     ]
    },
    {
     "cell_type": "code",
     "collapsed": false,
     "input": [
      "# . matches to any character except to '\\n'\n",
      "match = re.search('..o', 'hello pythonistas')\n",
      "print match.group()"
     ],
     "language": "python",
     "metadata": {},
     "outputs": []
    },
    {
     "cell_type": "code",
     "collapsed": false,
     "input": [
      "# \\w matches to any word character\n",
      "match = re.search('\\w\\w', 'hello pythonistas')\n",
      "print match.group()"
     ],
     "language": "python",
     "metadata": {},
     "outputs": []
    },
    {
     "cell_type": "code",
     "collapsed": false,
     "input": [
      "# \\d matches to any digit character\n",
      "match = re.search('\\w\\d\\d', 'abc123')\n",
      "print match.group()"
     ],
     "language": "python",
     "metadata": {},
     "outputs": []
    },
    {
     "cell_type": "markdown",
     "metadata": {},
     "source": [
      "You can try out few more examples not mentioned above. "
     ]
    },
    {
     "cell_type": "code",
     "collapsed": false,
     "input": [],
     "language": "python",
     "metadata": {},
     "outputs": []
    },
    {
     "cell_type": "markdown",
     "metadata": {},
     "source": [
      "Repetitions\n",
      "===========\n",
      "\n",
      "__<code>\\+</code>__ -- 1 or more occurrences of the pattern to its left, e.g. 'i+' = one or more i's  \n",
      "__<code>\\*</code>__ -- 0 or more occurrences of the pattern to its left  \n",
      "__<code>?</code>__ -- match 0 or 1 occurrences of the pattern to its left  \n",
      "\n",
      "Remeber the rule __Leftmost and Largest__ : The search finds the leftmost match for the pattern, and second it tries to use up as much of the string as possible\n",
      "\n",
      "Below are some examples:"
     ]
    },
    {
     "cell_type": "code",
     "collapsed": false,
     "input": [
      "match = re.search(r'l+o', 'hellllllllllllllllo world')\n",
      "print match.group()"
     ],
     "language": "python",
     "metadata": {},
     "outputs": []
    },
    {
     "cell_type": "code",
     "collapsed": false,
     "input": [
      "# Note that this regex would not search the next set of 'llllllo'\n",
      "# Leftmost and Largest\n",
      "match = re.search(r'l+o', 'hellllllllloaaaalllllo world')\n",
      "print match.group()"
     ],
     "language": "python",
     "metadata": {},
     "outputs": []
    },
    {
     "cell_type": "code",
     "collapsed": false,
     "input": [
      "# \\s* = zero or more whitespace chars\n",
      "# Here look for 3 digits, possibly separated by whitespace.\n",
      "match = re.search(r'\\d\\s*\\d\\s*\\d', 'xx1 2   3xx')\n",
      "print 'first match', match.group()\n",
      "match = re.search(r'\\d\\s*\\d\\s*\\d', 'xx12  3xx')\n",
      "print 'second match', match.group()\n",
      "match = re.search(r'\\d\\s*\\d\\s*\\d', 'xx123xx')\n",
      "print 'third match', match.group()"
     ],
     "language": "python",
     "metadata": {},
     "outputs": []
    },
    {
     "cell_type": "code",
     "collapsed": false,
     "input": [
      "#Lets try to find email in a particular string\n",
      "match = re.search(r'\\w+@\\w+', 'foo blah blah foo@bar.com')\n",
      "print match.group()"
     ],
     "language": "python",
     "metadata": {},
     "outputs": []
    },
    {
     "cell_type": "markdown",
     "metadata": {},
     "source": [
      "In the above example you could see the code returned <code>foo@bar</code>, instead of <code>foo@bar.com</code>. The reason being that __\".\"__ is not considered as word character.  \n",
      "Here comes the concept of square brackets:  \n",
      "Square brackets can be used to indicate a set of chars, so [abc] matches 'a' or 'b' or 'c'. The codes \\w, \\s etc. work inside square brackets too with the one exception that _dot (.) just means a literal dot_. So the next code:"
     ]
    },
    {
     "cell_type": "code",
     "collapsed": false,
     "input": [
      "match = re.search(r'[\\w.-]+@[\\w.-]+', 'foo blah blah foo-foo@bar.com')\n",
      "print match.group()"
     ],
     "language": "python",
     "metadata": {},
     "outputs": []
    },
    {
     "cell_type": "markdown",
     "metadata": {},
     "source": [
      "__<code>findall</code>__  \n",
      "<code>findall()</code> is probably the single most powerful function in the <code>re</code> module. Above we used <code>re.search()</code> to find the first match for a pattern. <code>findall()</code> finds *all* the matches and returns them as a list of strings, with each string representing one match."
     ]
    },
    {
     "cell_type": "code",
     "collapsed": false,
     "input": [
      "string = 'foo-bar@foo.com blah blah blah hello@world.com foo blah'\n",
      "emails = re.findall(r'[\\w.-]+@[\\w.-]+', string)\n",
      "for email in emails:\n",
      "    print email"
     ],
     "language": "python",
     "metadata": {},
     "outputs": []
    },
    {
     "cell_type": "code",
     "collapsed": false,
     "input": [
      "# Suppose we want to have username and host separately\n",
      "# for that we can use ()\n",
      "emails = re.findall(r'([\\w.-]+)@([\\w.-]+)', string)\n",
      "for email_tup in emails:\n",
      "    print 'username = ' + email_tup[0]\n",
      "    print 'host = ' + email_tup[1]"
     ],
     "language": "python",
     "metadata": {},
     "outputs": []
    },
    {
     "cell_type": "code",
     "collapsed": false,
     "input": [
      "from IPython.core.display import Image\n",
      "Image(filename='files/regular_expressions.png')\n",
      "#The same features also available in python"
     ],
     "language": "python",
     "metadata": {},
     "outputs": []
    },
    {
     "cell_type": "markdown",
     "metadata": {},
     "source": [
      "This was an introductory level regular expressions. More details can be found over:\n",
      "http://docs.python.org/2/library/re.html\n",
      "http://docs.python.org/2/howto/regex.html"
     ]
    }
   ],
   "metadata": {}
  }
 ]
}