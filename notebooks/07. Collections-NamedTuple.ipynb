{
 "metadata": {
  "name": ""
 },
 "nbformat": 3,
 "nbformat_minor": 0,
 "worksheets": [
  {
   "cells": [
    {
     "cell_type": "markdown",
     "metadata": {},
     "source": [
      "<code>collections.namedtuple(typename, field\\_names[, verbose=False][, rename=False])</code> returns a new tuple subclass named typename. They are basically easy to create, lightweight object types. It can be referenced using object like variable deferencing or the standard tuple syntax.   \n",
      "__Just like tuple they are also immutable__.  \n",
      "For example, lets try to represent complex number in python:"
     ]
    },
    {
     "cell_type": "code",
     "collapsed": false,
     "input": [
      "from collections import namedtuple\n",
      "ComplexNumber = namedtuple('ComplexNumber', 'real imag', verbose=False)\n",
      "c1 = ComplexNumber(1.0, 3.0)\n",
      "print c1.real, c1.imag\n",
      "#getattr can be used to get an attribute \n",
      "print getattr(c1, 'real')\n",
      "#It would through an error\n",
      "#c1.real = 5.0 "
     ],
     "language": "python",
     "metadata": {},
     "outputs": []
    },
    {
     "cell_type": "markdown",
     "metadata": {},
     "source": [
      "However, named tuples are still backwards compatible with normal tuples, so the following will still work."
     ]
    },
    {
     "cell_type": "code",
     "collapsed": false,
     "input": [
      "print c1[0], c1[1]"
     ],
     "language": "python",
     "metadata": {},
     "outputs": []
    },
    {
     "cell_type": "markdown",
     "metadata": {},
     "source": [
      "__You should use named tuples instead of tuples anywhere you think object notation will make your code more pythonic and more easily readable.__  \n",
      "Moving further, we can also include our own function for immutable functions that have no functions. For example:"
     ]
    },
    {
     "cell_type": "code",
     "collapsed": false,
     "input": [
      "import math\n",
      "class ComplexNumber(namedtuple('ComplexNumber', 'real imag')):\n",
      "    def modulus(self):\n",
      "        return math.sqrt(self.real**2 + self.imag**2)\n",
      "\n",
      "c1 = ComplexNumber(3.0, 4.0)\n",
      "print c1.modulus()"
     ],
     "language": "python",
     "metadata": {},
     "outputs": []
    },
    {
     "cell_type": "markdown",
     "metadata": {},
     "source": [
      "Methods defined in <code>namedtuple</code>  \n",
      "<code>__\\_make__(iterable)</code> is class method that makes a new instance from an existing sequence or iterable."
     ]
    },
    {
     "cell_type": "code",
     "collapsed": false,
     "input": [
      "some_list = [1, 4]\n",
      "some_complex_number = ComplexNumber._make(some_list)\n",
      "print some_complex_number.real, some_complex_number.imag"
     ],
     "language": "python",
     "metadata": {},
     "outputs": []
    },
    {
     "cell_type": "markdown",
     "metadata": {},
     "source": [
      "__<code>\\_replace</code>__ returns a __new instance__ of the named tuple replacing specified fields with new values."
     ]
    },
    {
     "cell_type": "code",
     "collapsed": false,
     "input": [
      "foo_complex_number = ComplexNumber(1, 4)\n",
      "foo_complex_number = foo_complex_number._replace(real=3)\n",
      "print foo_complex_number.real"
     ],
     "language": "python",
     "metadata": {},
     "outputs": []
    },
    {
     "cell_type": "markdown",
     "metadata": {},
     "source": [
      "__<code>\\_fields</code>__ returns a tuple of strings listing the field names. Useful for introspection and for creating new named tuple types from existing named tuples. Subclassing is not useful for adding new, stored fields. Instead, simply create a new named tuple type from the \\_fields attribute"
     ]
    },
    {
     "cell_type": "code",
     "collapsed": false,
     "input": [
      "print foo_complex_number._fields\n",
      "WeirdComplexNumber = namedtuple('WeirdComplexNumber', ComplexNumber._fields+('weird',))\n",
      "print WeirdComplexNumber._fields"
     ],
     "language": "python",
     "metadata": {},
     "outputs": []
    }
   ],
   "metadata": {}
  }
 ]
}