{
 "metadata": {
  "name": ""
 },
 "nbformat": 3,
 "nbformat_minor": 0,
 "worksheets": [
  {
   "cells": [
    {
     "cell_type": "markdown",
     "metadata": {},
     "source": [
      "List comprehensions provide a concise way to create lists. Common applications are to make new lists where each element is the result of some operations applied to each member of another sequence or iterable, or to create a subsequence of those elements that satisfy a certain condition.  \n",
      "Consider the example of creating a list of squares of numbers from 1 to 9. Normally it can be done as:"
     ]
    },
    {
     "cell_type": "code",
     "collapsed": false,
     "input": [
      "squares = []\n",
      "for x in range(10):\n",
      "     squares.append(x**2)\n",
      "\n",
      "print squares"
     ],
     "language": "python",
     "metadata": {},
     "outputs": []
    },
    {
     "cell_type": "markdown",
     "metadata": {},
     "source": [
      "With list comprehensions it can be done as:"
     ]
    },
    {
     "cell_type": "code",
     "collapsed": false,
     "input": [
      "squares = [x**2 for x in range(10)]\n",
      "print squares"
     ],
     "language": "python",
     "metadata": {},
     "outputs": []
    },
    {
     "cell_type": "markdown",
     "metadata": {},
     "source": [
      "Another example:"
     ]
    },
    {
     "cell_type": "markdown",
     "metadata": {},
     "source": [
      "<code><pre>\n",
      "cities = ['Chicago', 'Detroit', 'Atlanta']\n",
      "airports = ['ORD', 'DTW', 'ATL']\n",
      "\n",
      "output = [('Chicago', 'ORD'), ('Detroit', 'DTW'), ('Atlanta', 'ATL')]\n",
      "</pre></code>"
     ]
    },
    {
     "cell_type": "code",
     "collapsed": false,
     "input": [
      "cities = ['Chicago', 'Detroit', 'Atlanta']\n",
      "airports = ['ORD', 'DTW', 'ATL']\n",
      "\n",
      "output = [(cities[i], airports[i]) for i in range(3)]"
     ],
     "language": "python",
     "metadata": {},
     "outputs": []
    },
    {
     "cell_type": "code",
     "collapsed": false,
     "input": [
      "[x*2 if x%2==0 else x for x in range(10)]"
     ],
     "language": "python",
     "metadata": {},
     "outputs": []
    },
    {
     "cell_type": "markdown",
     "metadata": {},
     "source": [
      "A more complicated example:"
     ]
    },
    {
     "cell_type": "code",
     "collapsed": false,
     "input": [
      "[(x, y) for x in [1,2,3] for y in [3,1,4] if x != y]"
     ],
     "language": "python",
     "metadata": {},
     "outputs": []
    },
    {
     "cell_type": "markdown",
     "metadata": {},
     "source": [
      "Which loop is being executed first??"
     ]
    },
    {
     "cell_type": "markdown",
     "metadata": {},
     "source": [
      "Inverting a matrix:"
     ]
    },
    {
     "cell_type": "code",
     "collapsed": false,
     "input": [
      "matrix = [\n",
      "     [1, 2, 3, 4],\n",
      "     [5, 6, 7, 8],\n",
      "     [9, 10, 11, 12],\n",
      "    ]\n",
      "[[row[i] for row in matrix] for i in range(4)]"
     ],
     "language": "python",
     "metadata": {},
     "outputs": []
    },
    {
     "cell_type": "code",
     "collapsed": false,
     "input": [
      "tests = [('foo', ['a','b','c']), ('bar', ['d','e','f'])]"
     ],
     "language": "python",
     "metadata": {},
     "outputs": []
    },
    {
     "cell_type": "markdown",
     "metadata": {},
     "source": [
      "We want <pre><code>['a','b','c','d','e','f']</code></pre>"
     ]
    },
    {
     "cell_type": "markdown",
     "metadata": {},
     "source": [
      "Wrong:"
     ]
    },
    {
     "cell_type": "code",
     "collapsed": false,
     "input": [
      "new_list = [x for x in t[1] for t in tests]"
     ],
     "language": "python",
     "metadata": {},
     "outputs": []
    },
    {
     "cell_type": "markdown",
     "metadata": {},
     "source": [
      "Expanding this would be like:\n",
      "<code><pre>\n",
      "new_list = []\n",
      "for x in t[1]:\n",
      "    for t in tests:\n",
      "        new_list.append(x)\n",
      "\n",
      "print new_list\n",
      "</pre></code>"
     ]
    },
    {
     "cell_type": "markdown",
     "metadata": {},
     "source": [
      "But this throws an error."
     ]
    },
    {
     "cell_type": "markdown",
     "metadata": {},
     "source": [
      "Correct Way to do:"
     ]
    },
    {
     "cell_type": "code",
     "collapsed": false,
     "input": [
      "new_list = [x for t in tests for x in t[1]]\n",
      "print new_list"
     ],
     "language": "python",
     "metadata": {},
     "outputs": []
    }
   ],
   "metadata": {}
  }
 ]
}