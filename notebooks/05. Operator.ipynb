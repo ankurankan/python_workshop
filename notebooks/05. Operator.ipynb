{
 "metadata": {
  "name": ""
 },
 "nbformat": 3,
 "nbformat_minor": 0,
 "worksheets": [
  {
   "cells": [
    {
     "cell_type": "markdown",
     "metadata": {},
     "source": [
      "The <code>operator</code> module exports a set of efficient functions corresponding to the intrinsic operators of Python. For example, <code>operator.add(x, y)</code> is equivalent to the expression<code>x+y</code>.  \n",
      "\n",
      "The functions fall into categories that perform   \n",
      "+ object comparisons   \n",
      "+ logical operations   \n",
      "+ mathematical operations   \n",
      "+ sequence operations  \n",
      "+ abstract type tests  "
     ]
    },
    {
     "cell_type": "markdown",
     "metadata": {},
     "source": [
      "Few examples of operators:\n",
      "</pre><code>\n",
      "operator.lt(a, b)\n",
      "operator.le(a, b)\n",
      "operator.eq(a, b)\n",
      "operator.ne(a, b)\n",
      "operator.ge(a, b)\n",
      "operator.gt(a, b)\n",
      "</code></pre>"
     ]
    },
    {
     "cell_type": "markdown",
     "metadata": {},
     "source": [
      "The <code>operator</code> module also defines tools for generalized **attribute** and **item lookups**. These are useful for making fast field extractors as arguments for <code>map(), sorted(), itertools.groupby()</code>, or other functions that expect a function argument.\n",
      "\n",
      "<pre><code>\n",
      "operator.attrgetter(attr)\n",
      "operator.attrgetter(*attrs)\n",
      "</code></pre>\n",
      "Return a callable <code>object</code> that fetches <code>attr</code> from its operand. If more than one attribute is requested, returns a tuple of attributes. The attribute names can also contain dots. For example:"
     ]
    },
    {
     "cell_type": "code",
     "collapsed": false,
     "input": [
      "import operator\n",
      "\n",
      "class foo():\n",
      "    def __init__(self, first_name, last_name):\n",
      "        self.first_name = first_name\n",
      "        self.last_name = last_name\n",
      "\n",
      "foo_object = foo('foo', 'bar')\n",
      "first_name_getter = operator.attrgetter('first_name')\n",
      "# first_name_getter(foo_object) returns \n",
      "# foo_object.first_name\n",
      "print first_name_getter(foo_object)\n",
      "# name_getter(foo_object) returns \n",
      "# (foo_object.first_name, foo_object.last_name)\n",
      "name_getter = operator.attrgetter('first_name', 'last_name')\n",
      "print name_getter(foo_object)"
     ],
     "language": "python",
     "metadata": {},
     "outputs": []
    },
    {
     "cell_type": "markdown",
     "metadata": {},
     "source": [
      "<code>\n",
      "operator.itemgetter(item)\n",
      "operator.itemgetter(*items)\n",
      "</code>\n",
      "Return a callable <code>object</code> that fetches item from its operand using the operand\u2019s <code>\\_\\_getitem\\_\\_()</code> method. If multiple items are specified, returns a tuple of lookup values. For example:\n"
     ]
    },
    {
     "cell_type": "code",
     "collapsed": false,
     "input": [
      "foo = [1, 2, 3, 4, 5]\n",
      "elem_getter = operator.itemgetter(2)\n",
      "# elem_getter(foo) would return\n",
      "# foo[2]\n",
      "print elem_getter(foo)\n",
      "# elem_getter(foo) would return\n",
      "# (foo[2], foo[3])\n",
      "elem_getter = operator.itemgetter(2, 3)\n",
      "print elem_getter(foo)\n",
      "\n",
      "foo_dict = {'first_name': 'foo', 'last_name':'bar'}\n",
      "elem_getter = operator.itemgetter('first_name', 'last_name')\n",
      "print elem_getter(foo_dict)"
     ],
     "language": "python",
     "metadata": {},
     "outputs": []
    },
    {
     "cell_type": "markdown",
     "metadata": {},
     "source": [
      "<code>operator.methodcaller(name[, args...])</code>  \n",
      "Return a callable <code>object</code> that calls the **method** <code>name</code> on its operand. If additional **arguments and/or keyword arguments are given, they will be given to the method as well**. For example:"
     ]
    },
    {
     "cell_type": "code",
     "collapsed": false,
     "input": [
      "class foo():\n",
      "    def foo_function(self, first_name='foo', last_name='bar'):\n",
      "        print first_name, last_name\n",
      "\n",
      "foo_object = foo()\n",
      "method_caller = operator.methodcaller('foo_function')\n",
      "# method_caller(foo_object) would return \n",
      "# foo_object.name()\n",
      "method_caller(foo_object)\n",
      "# method_caller(foo_object) would return\n",
      "# foo_object.name(first_name='first', last_name='last')\n",
      "method_caller = operator.methodcaller('foo_function', first_name='first', last_name='last')\n",
      "method_caller(foo_object)"
     ],
     "language": "python",
     "metadata": {},
     "outputs": []
    },
    {
     "cell_type": "markdown",
     "metadata": {},
     "source": [
      "##Sorting using <code>operator.attrgetter</code> and <code>operator.itemgetter</code>"
     ]
    },
    {
     "cell_type": "code",
     "collapsed": false,
     "input": [
      "class Student:\n",
      "    def __init__(self, name, grade, age):\n",
      "        self.name = name\n",
      "        self.grade = grade\n",
      "        self.age = age\n",
      "    def __repr__(self):\n",
      "        return repr((self.name, self.grade, self.age))\n",
      "\n",
      "student_objects = [\n",
      "        Student('john', 'A', 15),\n",
      "        Student('jane', 'B', 12),\n",
      "        Student('dave', 'B', 10),\n",
      "        ]\n",
      "print sorted(student_objects, key=lambda student: student.age)\n",
      "print sorted(student_objects, key=operator.attrgetter('age'))"
     ],
     "language": "python",
     "metadata": {},
     "outputs": []
    },
    {
     "cell_type": "markdown",
     "metadata": {},
     "source": [
      "In Python, sorts are guaranteed to be stable. That means that when multiple records have the same key, their original order is preserved."
     ]
    },
    {
     "cell_type": "code",
     "collapsed": false,
     "input": [
      "data = [('red', 1), ('blue', 1), ('red', 2), ('blue', 2)]\n",
      "print sorted(data, key=operator.itemgetter(0))\n",
      "# Notice how the two records for 'blue' retain their \n",
      "# original order so that ('blue', 1) \n",
      "# is guaranteed to precede ('blue', 2)"
     ],
     "language": "python",
     "metadata": {},
     "outputs": []
    }
   ],
   "metadata": {}
  }
 ]
}